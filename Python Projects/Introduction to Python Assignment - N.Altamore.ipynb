{
 "cells": [
  {
   "cell_type": "markdown",
   "id": "f03e2c7f",
   "metadata": {},
   "source": [
    "**<div align=\"center\">Task One<br>**\n",
    "Create variables for the following information: <br>\n",
    "• Your full name <br>\n",
    "• Your age <br>\n",
    "• Your favourite number (use an integer) <br>\n",
    "Print each variable with an appropriate label"
   ]
  },
  {
   "cell_type": "code",
   "execution_count": 68,
   "id": "d0817482",
   "metadata": {},
   "outputs": [
    {
     "name": "stdout",
     "output_type": "stream",
     "text": [
      "My name is Nick Altamore, You are 44 years old and your favourite number is 300000000\n"
     ]
    }
   ],
   "source": [
    "# Declare variables\n",
    "FullName = \"Nick Altamore\"\n",
    "age = \"44\"\n",
    "FavNumber = \"300000000\"\n",
    "# Used .format to print all variables in one print function.\n",
    "print(\"My name is {}, You are {} years old and your favourite number is {}\"\n",
    "      .format(FullName, age, FavNumber))   \n"
   ]
  },
  {
   "cell_type": "markdown",
   "id": "a260ae7e",
   "metadata": {},
   "source": [
    "**<div align=\"center\">Task Two<br>**\n",
    "Write a Python program to calculate the area of a rectangle given its length and width."
   ]
  },
  {
   "cell_type": "code",
   "execution_count": 13,
   "id": "5ce4a3ed",
   "metadata": {},
   "outputs": [
    {
     "name": "stdout",
     "output_type": "stream",
     "text": [
      "The area of teh rectangle is 8\n"
     ]
    }
   ],
   "source": [
    "# Declare values for length and width\n",
    "length = 4\n",
    "width = 2\n",
    "\n",
    "# Calculate area of rectangle using length * width\n",
    "area = length * width\n",
    "\n",
    "# Output area\n",
    "print(\"The area of the rectangle is\", area)"
   ]
  },
  {
   "cell_type": "markdown",
   "id": "fd5c7389",
   "metadata": {},
   "source": [
    "**<div align=\"center\">Task Three<br>**\n",
    "Write a Python program which accepts the radius of a circle from the user and compute the area."
   ]
  },
  {
   "cell_type": "code",
   "execution_count": 19,
   "id": "5663dba3",
   "metadata": {},
   "outputs": [
    {
     "name": "stdout",
     "output_type": "stream",
     "text": [
      "What is the radius of the circle? 5\n",
      "78.53981633974483\n"
     ]
    }
   ],
   "source": [
    "# import math module to use the constant pi\n",
    "import math\n",
    "\n",
    "# Ask user to imput radius\n",
    "radius = int(input(\"What is the radius of the circle? \"))\n",
    "\n",
    "# Calculate radius\n",
    "area = math.pi*radius**2\n",
    "\n",
    "# Output area of circle\n",
    "print(area)"
   ]
  },
  {
   "cell_type": "markdown",
   "id": "05f73556",
   "metadata": {},
   "source": [
    "**<div align=\"center\">Task Four<br>**\n",
    "Convert temperature from 5 Degree Celsius to Fahrenheit.\n",
    "F=59×C+32"
   ]
  },
  {
   "cell_type": "code",
   "execution_count": 80,
   "id": "9f62a4a7",
   "metadata": {},
   "outputs": [
    {
     "name": "stdout",
     "output_type": "stream",
     "text": [
      "5 degrees celcius is 41.00 degrees fahrenheit\n"
     ]
    }
   ],
   "source": [
    "# Declare Variable for celcius\n",
    "celcius = 5\n",
    "\n",
    "# Calculate celcius to fahenheit *conversion factor is 9/5 not 59 as stated in Pdf*\n",
    "fahrenheit = (9/5*celcius)+32\n",
    "\n",
    "# Use string formatting to output 2 decimal places\n",
    "format_fah = \"{:.2f}\".format(Fahrenheit)\n",
    "\n",
    "# print output\n",
    "print(\"5 degrees celcius is\", format_fah, \"degrees fahrenheit\")"
   ]
  },
  {
   "cell_type": "markdown",
   "id": "f7b6d799",
   "metadata": {},
   "source": [
    "**<div align=\"center\">Task Five<br>**\n",
    "Implement a program that converts a given number from a user of minutes into hours and minutes."
   ]
  },
  {
   "cell_type": "code",
   "execution_count": 35,
   "id": "360e489d",
   "metadata": {},
   "outputs": [
    {
     "name": "stdout",
     "output_type": "stream",
     "text": [
      "How many minutes: 90\n",
      "1 hours and 30 minutes\n"
     ]
    }
   ],
   "source": [
    "# Prompt user to enter the number of minutes\n",
    "mins = int(input(\"How many minutes: \"))\n",
    "\n",
    "# Floor Divide mins by 60 to work out the number of hours\n",
    "hour = mins // 60\n",
    "\n",
    "# Work out the modulus of mins / 60. This will be the number of minutes left. \n",
    "mins_output = mins % 60\n",
    "\n",
    "# Output the answers\n",
    "print(hour, \"hours and\", mins_output, \"minutes\")\n",
    "\n"
   ]
  },
  {
   "cell_type": "markdown",
   "id": "83f780f7",
   "metadata": {},
   "source": [
    "**<div align=\"center\">Task Six<br>**\n",
    "Write a python code to convert values entered by user from mile to km or from km to mile."
   ]
  },
  {
   "cell_type": "code",
   "execution_count": 38,
   "id": "335e9536",
   "metadata": {
    "scrolled": false
   },
   "outputs": [
    {
     "name": "stdout",
     "output_type": "stream",
     "text": [
      "Enter the number of miles: 3\n",
      "3 miles, is equal to 4.827 kilometers\n"
     ]
    }
   ],
   "source": [
    "# Ask users to input the number of miles\n",
    "miles = int(input(\"Enter the number of miles: \"))\n",
    "\n",
    "# Calculate the conversion from miles to km by multiplying by 1.609\n",
    "miles_km = miles * 1.609\n",
    "\n",
    "# Output the number of kms\n",
    "print(miles,\"miles is equal to\", miles_km, \"kilometers\" )"
   ]
  },
  {
   "cell_type": "code",
   "execution_count": 84,
   "id": "fa61e96d",
   "metadata": {},
   "outputs": [
    {
     "name": "stdout",
     "output_type": "stream",
     "text": [
      "miles to Km (1) or km to miles (2): 2\n",
      "How far did it travel: 10\n",
      "10 kilometers, is equal to 6.215040397762586 miles\n"
     ]
    }
   ],
   "source": [
    "# Ask users to input which conversion and distance\n",
    "unit = int(input(\"miles to Km (1) or km to miles (2): \"))\n",
    "distance = int(input(\"How far did it travel: \"))\n",
    "\n",
    "# Use if to determine and print answer\n",
    "if distance == 1:\n",
    "    miles_km = distance * 1.069\n",
    "    print(distance, \"miles, is equal to\", miles_km, \"kilometers\")\n",
    "\n",
    "else:\n",
    "    km_miles = distance / 1.609\n",
    "    print(distance, \"kilometers, is equal to\", km_miles, \"miles\")\n"
   ]
  },
  {
   "cell_type": "markdown",
   "id": "7bf28808",
   "metadata": {},
   "source": [
    "**<div align=\"center\">Task Seven<br>**\n",
    "Request the user to input a distance and the time taken to cover that distance. Calculate and print the speed using the formula :\n",
    "Speed = distance / time"
   ]
  },
  {
   "cell_type": "code",
   "execution_count": 41,
   "id": "bd0888fb",
   "metadata": {},
   "outputs": [
    {
     "name": "stdout",
     "output_type": "stream",
     "text": [
      "What was the distance travelled: 5\n",
      "How many seconds did it take? 1\n",
      "The speed was 5.0 m/s\n"
     ]
    }
   ],
   "source": [
    "# Ask user to input distance and time\n",
    "distance = int(input(\"How many meters were traveled: \"))\n",
    "time = int(input(\"How many seconds did it take? \"))\n",
    "\n",
    "# Calculate speed\n",
    "speed = distance /  time\n",
    "\n",
    "# Output speed\n",
    "print(\"The speed was\", speed, \"m/s\")"
   ]
  },
  {
   "cell_type": "markdown",
   "id": "3b91c818",
   "metadata": {},
   "source": [
    "**<div align=\"center\">Task Eight<br>**\n",
    "Ask the user to input an amount in one currency. Implement a simple currency converter to convert the amount to another currency. You may choose specific currencies."
   ]
  },
  {
   "cell_type": "code",
   "execution_count": 54,
   "id": "10f29dd5",
   "metadata": {},
   "outputs": [
    {
     "name": "stdout",
     "output_type": "stream",
     "text": [
      "How many pounds do you have: 100\n",
      "£100 would be $126.0 US dollars or $191.0 Australian dollars"
     ]
    }
   ],
   "source": [
    "# Ask user to input number of pounds\n",
    "pounds = int(input(\"How many pounds do you have: \"))\n",
    "\n",
    "# Calcualate conversions from GBP to USD and GBP to AUD\n",
    "usa = pounds * 1.26\n",
    "aus = pounds * 1.91\n",
    "\n",
    "# Output conversions, use f string to remove spaces between currency signs and values. \n",
    "print(f\"£{pounds} would be ${usa} US dollars or ${aus} Australian dollars\", end=\"\")"
   ]
  },
  {
   "cell_type": "markdown",
   "id": "9339610a",
   "metadata": {},
   "source": [
    "**<div align=\"center\">Task Nine<br>**\n",
    "Write a program that calculates the compound interest using the formula:<br>\n",
    "𝐴 = 𝑃(1 + 𝑟/𝑛)^𝑛𝑡<br>\n",
    "\n",
    "A = Future Value,<br>\n",
    "P = Principal Amount<br>\n",
    "r = Annual interest rate<br>\n",
    "n = Number of times interest is compounded per year<br>\n",
    "t = Time in years<br>"
   ]
  },
  {
   "cell_type": "code",
   "execution_count": 87,
   "id": "06fee505",
   "metadata": {},
   "outputs": [
    {
     "name": "stdout",
     "output_type": "stream",
     "text": [
      "Enter principal amount: 1\n",
      "Enter interest rate: 1\n",
      "How many years is the loan for? 1\n",
      "You have paid £1.6130352902246758 in interest"
     ]
    }
   ],
   "source": [
    "# Prompt user for relevant inputs\n",
    "p = int(input(\"Enter principal amount: \"))\n",
    "r = float(input(\"Enter interest rate: \"))\n",
    "## Assuming monthly compound interest\n",
    "n = 12\n",
    "t = int(input(\"How many years is the loan for? \"))\n",
    "\n",
    "# Calculate compound interest\n",
    "A = p*(1+(r/n))**(n*t) \n",
    "\n",
    "interest = A - p\n",
    "rounded_interest = \"{:.2f}\".format(interest)\n",
    "\n",
    "# Output result using f string to remove space between £ and result\n",
    "print(f\"You have paid £{interest} in interest\",end=\"\")"
   ]
  },
  {
   "cell_type": "markdown",
   "id": "ee585731",
   "metadata": {},
   "source": [
    "**<div align=\"center\">Task Ten<br>**\n",
    "Prompt the user to enter an integer. Determine whether the entered number is odd or even and display the result."
   ]
  },
  {
   "cell_type": "code",
   "execution_count": null,
   "id": "8fd741a0",
   "metadata": {},
   "outputs": [],
   "source": [
    "# prompt user to input a number\n",
    "num = int(input(\"Enter a number: \"))\n",
    "\n",
    "# find modulus of input number/2\n",
    "odd_even = num % 2\n",
    "\n",
    "#If modulus is 0, inputted number is odd\n",
    "if odd_even == 0:\n",
    "    print(\"The number is even\")\n",
    "\n",
    "#If modulus is a number, inputted number is odd\n",
    "else:\n",
    "    print(\"The number is odd\")"
   ]
  }
 ],
 "metadata": {
  "kernelspec": {
   "display_name": "Python 3 (ipykernel)",
   "language": "python",
   "name": "python3"
  },
  "language_info": {
   "codemirror_mode": {
    "name": "ipython",
    "version": 3
   },
   "file_extension": ".py",
   "mimetype": "text/x-python",
   "name": "python",
   "nbconvert_exporter": "python",
   "pygments_lexer": "ipython3",
   "version": "3.11.5"
  }
 },
 "nbformat": 4,
 "nbformat_minor": 5
}
