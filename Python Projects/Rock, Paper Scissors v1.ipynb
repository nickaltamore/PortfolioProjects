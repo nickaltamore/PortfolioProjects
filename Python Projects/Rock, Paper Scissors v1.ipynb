{
 "cells": [
  {
   "cell_type": "code",
   "execution_count": 66,
   "id": "0c2a48d6",
   "metadata": {
    "scrolled": false
   },
   "outputs": [
    {
     "name": "stdout",
     "output_type": "stream",
     "text": [
      "Rock, paper or scissors? paper\n",
      "You picked paper, I picked rock..you win\n",
      "Press q to quit or any other key to play again \n",
      "Rock, paper or scissors? paper\n",
      "You picked paper, I picked rock..you win\n",
      "Press q to quit or any other key to play again \n",
      "Rock, paper or scissors? paper\n",
      "You picked paper, I picked scissors..I win\n",
      "Press q to quit or any other key to play again \n",
      "Rock, paper or scissors? paper\n",
      "You picked paper, I picked paper, draw. Pick again: \n",
      "Rock, paper or scissors? paper\n",
      "You picked paper, I picked rock..you win\n",
      "Press q to quit or any other key to play again q\n",
      "bye\n"
     ]
    }
   ],
   "source": [
    "import random\n",
    "# Check if user has inputted a correct word, if not prompt for a new word. Continue unitl correct.\n",
    "while True:\n",
    "    computer = random.choice(words)\n",
    "    while True:\n",
    "        user = input(\"Rock, paper or scissors? \").lower()\n",
    "        if user not in words:\n",
    "            user = input(\"You entered the wrong word, try again\")\n",
    "            continue\n",
    "        else:\n",
    "            break\n",
    "\n",
    "    if user == computer:\n",
    "        print(f\"You picked {user}, I picked {computer}, draw. Pick again: \")\n",
    "        continue\n",
    "# The continue above runs the code below after the user picks again.         \n",
    "\n",
    "# Check all situations and print answer - must be an easier way to do this\n",
    "    elif user == \"paper\" and computer == \"rock\":\n",
    "        print(f\"You picked {user}, I picked {computer}..you win\")\n",
    "            \n",
    "    elif user == \"rock\" and computer == \"paper\":\n",
    "        print(f\"You picked {user}, I picked {computer}..I win\")\n",
    "            \n",
    "\n",
    "    elif user == \"scissors\" and computer == \"paper\":\n",
    "        print(f\"You picked {user}, I picked {computer}..you win\")\n",
    "            \n",
    "\n",
    "    elif user == \"paper\" and computer == \"scissors\":\n",
    "        print(f\"You picked {user}, I picked {computer}..I win\")\n",
    "            \n",
    "\n",
    "    elif user == \"rock\" and computer == \"scissors\":\n",
    "        print(f\"You picked {user}, I picked {computer}..you win\")\n",
    "            \n",
    "\n",
    "    else:\n",
    "        print(f\"You picked {user}, I picked {computer}..I win\")\n",
    "            \n",
    "# check if user wants to play again.             \n",
    "    play_again = input(\"Press q to quit or any other key to play again \")\n",
    "    if play_again == \"q\":\n",
    "        print(\"bye\")\n",
    "        break\n",
    "\n",
    "\n"
   ]
  },
  {
   "cell_type": "code",
   "execution_count": null,
   "id": "461a32c4",
   "metadata": {},
   "outputs": [],
   "source": []
  }
 ],
 "metadata": {
  "kernelspec": {
   "display_name": "Python 3 (ipykernel)",
   "language": "python",
   "name": "python3"
  },
  "language_info": {
   "codemirror_mode": {
    "name": "ipython",
    "version": 3
   },
   "file_extension": ".py",
   "mimetype": "text/x-python",
   "name": "python",
   "nbconvert_exporter": "python",
   "pygments_lexer": "ipython3",
   "version": "3.11.5"
  }
 },
 "nbformat": 4,
 "nbformat_minor": 5
}
