{
 "cells": [
  {
   "cell_type": "code",
   "execution_count": null,
   "id": "638d8e28",
   "metadata": {},
   "outputs": [
    {
     "name": "stderr",
     "output_type": "stream",
     "text": [
      "[nltk_data] Downloading package words to\n",
      "[nltk_data]     C:\\Users\\nicka\\AppData\\Roaming\\nltk_data...\n",
      "[nltk_data]   Package words is already up-to-date!\n"
     ]
    },
    {
     "name": "stdout",
     "output_type": "stream",
     "text": [
      "Welcome to Wordle\n",
      "Type a 5-letter word and press enter\n",
      "\n",
      "Guess the word: jacks\n",
      "\u001b[1A\u001b[2K\u001b[31mj\u001b[0m\u001b[33ma\u001b[0m\u001b[31mc\u001b[0m\u001b[31mk\u001b[0m\u001b[31ms\u001b[0m\n",
      "Guess the word: fjord\n",
      "\u001b[1A\u001b[2K\u001b[31mf\u001b[0m\u001b[31mj\u001b[0m\u001b[31mo\u001b[0m\u001b[31mr\u001b[0m\u001b[32md\u001b[0m\n",
      "Guess the word: bard\n",
      "\u001b[1A\u001b[2K\u001b[31mb\u001b[0m\u001b[33ma\u001b[0m\u001b[31mr\u001b[0m\u001b[33md\u001b[0m\n",
      "Guess the word: frard\n",
      "\u001b[1A\u001b[2K\u001b[31mf\u001b[0m\u001b[31mr\u001b[0m\u001b[33ma\u001b[0m\u001b[31mr\u001b[0m\u001b[32md\u001b[0m\n",
      "Guess the word: caged\n",
      "\u001b[1A\u001b[2K\u001b[31mc\u001b[0m\u001b[33ma\u001b[0m\u001b[31mg\u001b[0m\u001b[33me\u001b[0m\u001b[32md\u001b[0m\n",
      "Guess the word: hegad\n",
      "\u001b[1A\u001b[2K\u001b[31mh\u001b[0m\u001b[33me\u001b[0m\u001b[31mg\u001b[0m\u001b[32ma\u001b[0m\u001b[32md\u001b[0m\n",
      "Sorry, the word was...entad\n"
     ]
    }
   ],
   "source": [
    "# allow to pick random\n",
    "import random\n",
    "# allow to clear terminal\n",
    "import sys\n",
    "# included coloured text\n",
    "from termcolor import colored\n",
    "# import natural language toolkit\n",
    "import nltk\n",
    "\n",
    "# Download the words corpus from NLTK\n",
    "nltk.download('words')\n",
    "\n",
    "from nltk.corpus import words as nltk_words\n",
    "\n",
    "def print_menu():\n",
    "    print(\"Welcome to Wordle\")\n",
    "    print(\"Type a 5-letter word and press enter\\n\")\n",
    "\n",
    "# Get the words list from NLTK corpus\n",
    "word_list = nltk_words.words()\n",
    "#filter the words to only inlcude 5 letter words\n",
    "words_five = [word for word in word_list if len(word) == 5]\n",
    "\n",
    "print_menu()\n",
    "play_again = \"\"\n",
    "while play_again != \"q\":\n",
    "    word = random.choice(words_five)\n",
    "\n",
    "    for attempt in range(1, 7):\n",
    "        guess = input(\"Guess the word: \").lower()\n",
    "\n",
    "        sys.stdout.write(\"\\x1b[1A\")\n",
    "        sys.stdout.write(\"\\x1b[2K\")\n",
    "\n",
    "        for i in range(min(len(guess), 5)):\n",
    "            if guess[i] == word[i]:\n",
    "                print(colored(guess[i], \"green\"), end=\"\")\n",
    "            elif guess[i] in word:\n",
    "                print(colored(guess[i], \"yellow\"), end=\"\")\n",
    "            else:\n",
    "                print(colored(guess[i], \"red\"), end=\"\")\n",
    "        print()\n",
    "\n",
    "        if guess == word:\n",
    "            print(f\"Congratulations! You got the correct word in {attempt} guesses\")\n",
    "            break\n",
    "            \n",
    "        elif attempt == 6:\n",
    "            print(f\"Sorry, the word was...{word}\")\n",
    "    play_again = input(\"Press 'q' to quit or any other key to play again: \")\n"
   ]
  },
  {
   "cell_type": "code",
   "execution_count": null,
   "id": "36db348b",
   "metadata": {},
   "outputs": [],
   "source": []
  }
 ],
 "metadata": {
  "kernelspec": {
   "display_name": "Python 3 (ipykernel)",
   "language": "python",
   "name": "python3"
  },
  "language_info": {
   "codemirror_mode": {
    "name": "ipython",
    "version": 3
   },
   "file_extension": ".py",
   "mimetype": "text/x-python",
   "name": "python",
   "nbconvert_exporter": "python",
   "pygments_lexer": "ipython3",
   "version": "3.11.5"
  }
 },
 "nbformat": 4,
 "nbformat_minor": 5
}
